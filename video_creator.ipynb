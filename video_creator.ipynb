{
 "cells": [
  {
   "cell_type": "code",
   "execution_count": 84,
   "metadata": {},
   "outputs": [],
   "source": [
    "import cv2\n",
    "import time\n",
    "card = \"Ac\"\n",
    "save_name = \"data/video/{}.avi\".format(card)\n",
    "fps = 10\n",
    "width = 960\n",
    "height = 736\n",
    "output_size = (width, height)\n",
    "out = cv2.VideoWriter(save_name,cv2.VideoWriter_fourcc('M','J','P','G'), fps , output_size )\n",
    "\n",
    "cap = cv2.VideoCapture(0, cv2.CAP_DSHOW)\n",
    "cap.set(cv2.CAP_PROP_AUTOFOCUS, 0)\n",
    "cap.set(cv2.CAP_PROP_FRAME_HEIGHT, height) # set the Horizontal resolution \n",
    "cap.set(cv2.CAP_PROP_FRAME_WIDTH, width) # Set the Vertical resolution \n",
    "start = time.time()\n",
    "while(time.time()-start < 22):\n",
    "    _, frame = cap.read()\n",
    "    cv2.imshow('Video Frame', frame)\n",
    "    out.write(cv2.resize(frame, output_size ))\n",
    "    if cv2.waitKey(1) & 0xFF == ord('q'):\n",
    "        break\n",
    "cap.release()\n",
    "out.release()\n",
    "cv2.destroyAllWindows()"
   ]
  },
  {
   "cell_type": "code",
   "execution_count": null,
   "metadata": {},
   "outputs": [],
   "source": []
  }
 ],
 "metadata": {
  "kernelspec": {
   "display_name": "pytorch_cuda",
   "language": "python",
   "name": "python3"
  },
  "language_info": {
   "codemirror_mode": {
    "name": "ipython",
    "version": 3
   },
   "file_extension": ".py",
   "mimetype": "text/x-python",
   "name": "python",
   "nbconvert_exporter": "python",
   "pygments_lexer": "ipython3",
   "version": "3.10.8"
  },
  "orig_nbformat": 4,
  "vscode": {
   "interpreter": {
    "hash": "67e184a5ce05c3590839df023a0a98d212a887042ead8b4dc83bb7011e722430"
   }
  }
 },
 "nbformat": 4,
 "nbformat_minor": 2
}
